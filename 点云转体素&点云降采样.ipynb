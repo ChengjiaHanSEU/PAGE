{
 "cells": [
  {
   "cell_type": "code",
   "execution_count": null,
   "id": "suitable-creation",
   "metadata": {
    "scrolled": true
   },
   "outputs": [],
   "source": [
    "import open3d as o3d \n",
    "import numpy as np\n",
    "from plyfile import *\n",
    "import matplotlib.pyplot as plt"
   ]
  },
  {
   "cell_type": "code",
   "execution_count": null,
   "id": "informal-facial",
   "metadata": {
    "scrolled": true
   },
   "outputs": [],
   "source": [
    "#点云文件导入\n",
    "filepath=r\"F:/HCJ_for_AI_training/深度学习-表面纹理/网格化纹理/SMA13-1.ply\"\n",
    "plydata = PlyData.read(filepath)\n",
    "xlist = np.array(plydata['vertex']['x'])[...,np.newaxis]\n",
    "ylist = np.array(plydata['vertex']['y'])[...,np.newaxis]\n",
    "zlist = np.array(plydata['vertex']['z'])[...,np.newaxis]\n",
    "\n",
    "print(xlist.shape)\n",
    "print(ylist.shape)\n",
    "print(zlist.shape)\n",
    "\n",
    "#输入制作为B×N×3\n",
    "data_x=np.concatenate((xlist,ylist,zlist),axis=-1)\n",
    "print(data_x.shape)"
   ]
  },
  {
   "cell_type": "code",
   "execution_count": null,
   "id": "downtown-stocks",
   "metadata": {},
   "outputs": [],
   "source": [
    "#降采样方法，根据设置的点数降采样\n",
    "mesh = o3d.io.read_triangle_mesh(\"C:/Users/Administrator/Desktop/AC16-1.ply\")\n",
    "mesh.compute_vertex_normals()\n",
    "pcd_new = o3d.geometry.TriangleMesh.sample_points_uniformly(mesh, number_of_points=100000) # 采样点云\n",
    "o3d.visualization.draw_geometries([pcd_new], width=1024, height=1024)\n",
    "print(pcd_new)"
   ]
  },
  {
   "cell_type": "code",
   "execution_count": null,
   "id": "theoretical-harvey",
   "metadata": {},
   "outputs": [],
   "source": [
    "print(\"Load a ply point cloud, print it, and render it\")\n",
    "pcd = o3d.io.read_point_cloud(\"C:/Users/Administrator/Desktop/AC16-1.ply\")\n",
    "#print(np.max(pcd.get_max_bound() - pcd.get_min_bound()))\n",
    "#print(pcd.get_center())\n",
    "#pcd.scale(1 / 200, center=[0,0,0])\n",
    "#pcd.colors = o3d.utility.Vector3dVector(np.random.uniform(0,1,size=(2000,3)))\n",
    "\n",
    "print('voxelization')\n",
    "voxel_grid = o3d.geometry.VoxelGrid.create_from_point_cloud(pcd, voxel_size=0.2)\n",
    "\n",
    "aabb = voxel_grid.get_axis_aligned_bounding_box()#最小外包围框（包络体）\n",
    "aabb.color = (1, 0, 0)\n",
    "print(aabb)\n",
    "o3d.visualization.draw_geometries([voxel_grid,aabb], width=1024, height=1024)\n",
    "print(voxel_grid)"
   ]
  },
  {
   "cell_type": "code",
   "execution_count": null,
   "id": "considered-extent",
   "metadata": {},
   "outputs": [],
   "source": [
    "def voxel_transform(point_cloud, leaf_size, random=False):\n",
    "    # 计算边界点\n",
    "    x_min, y_min, z_min = np.amin(point_cloud, axis=0) #计算x y z 三个维度的最值\n",
    "    x_max, y_max, z_max = np.amax(point_cloud, axis=0)\n",
    " \n",
    "    # 计算 voxel grid维度\n",
    "    Dx = (x_max - x_min)//leaf_size + 1\n",
    "    Dy = (y_max - y_min)//leaf_size + 1\n",
    "    Dz = (z_max - z_min)//leaf_size + 1\n",
    "    print(\"Dx x Dy x Dz is {} x {} x {}\".format(Dx, Dy, Dz))\n",
    "    \n",
    "    #建立包络空间\n",
    "    filtered_points = np.zeros(shape=(int(Dx),int(Dy),int(Dz),1))\n",
    " \n",
    "    # 计算每个点的voxel索引\n",
    "    for i in range(len(point_cloud)):\n",
    "        hx = int((point_cloud[i][0] - x_min)//leaf_size)\n",
    "        hy = int((point_cloud[i][1] - y_min)//leaf_size)\n",
    "        hz = int((point_cloud[i][2] - z_min)//leaf_size)\n",
    "        filtered_points[hx][hy][hz][0]=1\n",
    "        \n",
    "    return  filtered_points"
   ]
  },
  {
   "cell_type": "code",
   "execution_count": null,
   "id": "logical-chemical",
   "metadata": {},
   "outputs": [],
   "source": [
    "a=voxel_transform(data_x,leaf_size=0.1)\n",
    "print(a.shape)"
   ]
  },
  {
   "cell_type": "code",
   "execution_count": null,
   "id": "headed-content",
   "metadata": {},
   "outputs": [],
   "source": [
    "#点云文件导入\n",
    "##############导入点云数据#################\n",
    "pcd_AC13_1 = o3d.io.read_point_cloud(\"C:/Users/Administrator/Desktop/surface/AC13-1.ply\")\n",
    "pcd_AC13_2 = o3d.io.read_point_cloud(\"C:/Users/Administrator/Desktop/surface/AC13-2.ply\")\n",
    "pcd_AC16_3 = o3d.io.read_point_cloud(\"C:/Users/Administrator/Desktop/surface/AC16-3.ply\")\n",
    "pcd_AC16_4 = o3d.io.read_point_cloud(\"C:/Users/Administrator/Desktop/surface/AC16-4.ply\")\n",
    "pcd_UT5_1  = o3d.io.read_point_cloud(\"C:/Users/Administrator/Desktop/surface/UT5-1.ply\")\n",
    "pcd_UT5_2  = o3d.io.read_point_cloud(\"C:/Users/Administrator/Desktop/surface/UT5-2.ply\")\n",
    "pcd_UT5_3  = o3d.io.read_point_cloud(\"C:/Users/Administrator/Desktop/surface/UT5-3.ply\")\n",
    "pcd_UT5_4  = o3d.io.read_point_cloud(\"C:/Users/Administrator/Desktop/surface/UT5-4.ply\")\n",
    "pcd_SMA13_1= o3d.io.read_point_cloud(\"C:/Users/Administrator/Desktop/surface/SMA13-1.ply\")\n",
    "pcd_SMA13_2= o3d.io.read_point_cloud(\"C:/Users/Administrator/Desktop/surface/SMA13-2.ply\")\n",
    "#############点云标准化####################\n",
    "def standard_pointcloud(point_cloud):\n",
    "    Point_standard=[]\n",
    "    Point=np.asarray(point_cloud.points)    \n",
    "    x=np.array(Point[:,0])[...,np.newaxis]\n",
    "    y=np.array(Point[:,1])[...,np.newaxis]\n",
    "    z=np.array(Point[:,2])[...,np.newaxis]\n",
    "    Point_standard=np.concatenate((x-np.min(x),y-np.min(y),z-np.min(z)),axis=-1)\n",
    "    return Point_standard\n",
    "    \n",
    "AC13_1=standard_pointcloud(pcd_AC13_1)\n",
    "AC13_2=standard_pointcloud(pcd_AC13_2)\n",
    "AC16_3=standard_pointcloud(pcd_AC16_3)\n",
    "AC16_4=standard_pointcloud(pcd_AC16_4)\n",
    "UT5_1=standard_pointcloud(pcd_UT5_1)\n",
    "UT5_2=standard_pointcloud(pcd_UT5_2)\n",
    "UT5_3=standard_pointcloud(pcd_UT5_3)\n",
    "UT5_4=standard_pointcloud(pcd_UT5_4)\n",
    "SMA13_1= standard_pointcloud(pcd_SMA13_1)\n",
    "SMA13_2= standard_pointcloud(pcd_SMA13_2)\n",
    "\n",
    "\n",
    "point_cloud_array_group = []\n",
    "point_cloud_array_group.append(AC13_1)\n",
    "point_cloud_array_group.append(AC13_2)\n",
    "point_cloud_array_group.append(AC16_3)\n",
    "point_cloud_array_group.append(AC16_4)\n",
    "point_cloud_array_group.append(UT5_1)\n",
    "point_cloud_array_group.append(UT5_2)\n",
    "point_cloud_array_group.append(UT5_3)\n",
    "point_cloud_array_group.append(UT5_4)\n",
    "point_cloud_array_group.append(SMA13_1)\n",
    "point_cloud_array_group.append(SMA13_2)\n",
    "#############点云标准化####################\n",
    "def standard_pointcloud(point_cloud):\n",
    "    Point_standard=[]  \n",
    "    x=np.array(point_cloud[:,0])[...,np.newaxis]\n",
    "    y=np.array(point_cloud[:,1])[...,np.newaxis]\n",
    "    z=np.array(point_cloud[:,2])[...,np.newaxis]\n",
    "    Point_standard=np.concatenate((x-np.min(x),y-np.min(y),z-np.min(z)),axis=-1)\n",
    "    return Point_standard\n",
    "######################按照计算的H_final进行窗口滑动切分#########################\n",
    "H_final=51\n",
    "AC13=[0,6,4,3.5,5.5,7.5,10.5,16,23.5,18.5,5,0]#级配\n",
    "AC16=[0,5.4,2.4,2.4,3.7,4.1,7.8,5.5,26.3,20.1,16.6,5.7]#级配 \n",
    "SMA13=[0,10.7,2.1,1.4,1.1,1.2,2.9,9.4,30.3,31.5,8.2,1.2]#级配\n",
    "UT5=[0,6.7,2,2.5,5,20,13.4,48.8,1.5,0.1,0,0]#级配\n",
    "def split_slide(point_cloud_array_origion,H_new=H_final, intervial =[5,5]):\n",
    "    L=int(np.max(point_cloud_array_origion[:,0]))\n",
    "    W=int(np.max(point_cloud_array_origion[:,1]))\n",
    "    Point_cloud_small = []\n",
    "    L_intervial = intervial[0]\n",
    "    W_intervial = intervial[1]\n",
    "    for i in range (0,L-H_new,L_intervial):\n",
    "        for j in range (0,W-H_new,W_intervial):\n",
    "            temp_point_cloud = point_cloud_array_origion[np.where((point_cloud_array_origion[:,1]>i)&\n",
    "                                                                  (point_cloud_array_origion[:,1]<(H_new+i))&\n",
    "                                                                  (point_cloud_array_origion[:,0]>j)&\n",
    "                                                                  (point_cloud_array_origion[:,0]<(H_new+j)))]\n",
    "            temp_point_cloud = standard_pointcloud(temp_point_cloud)\n",
    "            Point_cloud_small.append(temp_point_cloud)\n",
    "    return Point_cloud_small\n",
    "########################点云转RCBD图像############\n",
    "def PointCloud_to_RGBD(pointCloud_array):\n",
    "    pcd=o3d.geometry.PointCloud()\n",
    "    pcd.points=o3d.utility.Vector3dVector(pointCloud_array)\n",
    "    vis = o3d.visualization.Visualizer()\n",
    "    vis.create_window()\n",
    "    vis.get_render_option().point_color_option = o3d.visualization.PointColorOption.Color\n",
    "    vis.get_render_option().point_size = 3.0\n",
    "    vis.add_geometry(pcd)\n",
    "    Image=vis.capture_screen_float_buffer(do_render=True)\n",
    "    vis.destroy_window()\n",
    "    Image_array = np.array(Image)[150:900,580:1320]\n",
    "    return Image_array"
   ]
  },
  {
   "cell_type": "code",
   "execution_count": null,
   "id": "tight-picture",
   "metadata": {},
   "outputs": [],
   "source": [
    "PointCloud_new =[]\n",
    "#制作Ground truth\n",
    "Y_Data=np.zeros((1,12))\n",
    "for i in range(10):\n",
    "    temp=split_slide(point_cloud_array_group[i])\n",
    "    #print(len(temp))\n",
    "    PointCloud_new=np.concatenate((PointCloud_new,temp),axis=0)"
   ]
  },
  {
   "cell_type": "code",
   "execution_count": null,
   "id": "republican-lotus",
   "metadata": {},
   "outputs": [],
   "source": [
    "Image_set=[]\n",
    "for i in range(len(PointCloud_new )):\n",
    "    temp = PointCloud_to_RGBD(PointCloud_new[i])\n",
    "    Image_set.append(temp)"
   ]
  },
  {
   "cell_type": "code",
   "execution_count": null,
   "id": "funded-return",
   "metadata": {},
   "outputs": [],
   "source": [
    "Image_set=np.array(Image_set)\n",
    "Image_set.shape"
   ]
  },
  {
   "cell_type": "code",
   "execution_count": null,
   "id": "peripheral-bracket",
   "metadata": {},
   "outputs": [],
   "source": []
  }
 ],
 "metadata": {
  "kernelspec": {
   "display_name": "Python 3",
   "language": "python",
   "name": "python3"
  },
  "language_info": {
   "codemirror_mode": {
    "name": "ipython",
    "version": 3
   },
   "file_extension": ".py",
   "mimetype": "text/x-python",
   "name": "python",
   "nbconvert_exporter": "python",
   "pygments_lexer": "ipython3",
   "version": "3.6.12"
  }
 },
 "nbformat": 4,
 "nbformat_minor": 5
}
